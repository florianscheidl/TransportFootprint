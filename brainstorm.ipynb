{
 "cells": [
  {
   "cell_type": "markdown",
   "metadata": {},
   "source": [
    "# Footprint of Travel\n",
    "- This looks like a helpful platform: https://geops.com/de/solution\n",
    "- Specifically for real-time: https://developer.geops.io/apis/realtime"
   ]
  },
  {
   "cell_type": "markdown",
   "metadata": {},
   "source": [
    "# Footprint of train travel\n",
    "Spatially and temporally granular assessment of footprint\n",
    "- Estimate direct power use of the train\n",
    "  - Get the train model\n",
    "  - Technical specifications of trains\n",
    "  - Estimate how full the train will be\n",
    "  - EMaps or CO2Maps signal to determine the carbon footprint"
   ]
  },
  {
   "cell_type": "code",
   "execution_count": 164,
   "metadata": {},
   "outputs": [],
   "source": [
    "import requests"
   ]
  },
  {
   "cell_type": "markdown",
   "metadata": {},
   "source": [
    "### Play with the CO2Map API\n",
    "See https://api.co2map.de/docs#/ Ok, this is very straight-forward to use."
   ]
  },
  {
   "cell_type": "code",
   "execution_count": 177,
   "metadata": {},
   "outputs": [],
   "source": [
    "def query_co2map_api(\n",
    "    federal_state: str,\n",
    "    start = \"2024-03-01\",\n",
    "    end = \"2024-03-02\",\n",
    "    country: str = \"DE\",\n",
    "    kind: str = \"ConsumptionIntensityPreliminary\",\n",
    "):\n",
    "    r = requests.get(f'https://api.co2map.de/{kind}/?state={federal_state}&country={country}&start={start}&end={end}')\n",
    "    return r.json()"
   ]
  },
  {
   "cell_type": "code",
   "execution_count": 178,
   "metadata": {},
   "outputs": [],
   "source": [
    "signal = query_co2map_api(\"BW\")\n",
    "signal['Consumption-based Intensity (preliminary)']"
   ]
  },
  {
   "cell_type": "markdown",
   "metadata": {},
   "source": [
    "### Geops API\n",
    "This looks a bit tricker to navigate but super cool 🤯\n",
    "- For real-time train information https://developer.geops.io/apis/realtime\n",
    "- Here we can get the routes (on varying levels of detail): https://developer.geops.io/apis/routing"
   ]
  },
  {
   "cell_type": "code",
   "execution_count": 180,
   "metadata": {},
   "outputs": [],
   "source": [
    "r = requests.get(\n",
    "    url = 'https://api.geops.io/routing/v1/?via=Hamburg%7CK%C3%B8benhavn%20H&mot=rail&graph=gen2',\n",
    "    headers = {\n",
    "        'accept': 'application/json',\n",
    "        'Authorization': '5cc87b12d7c5370001c1d655f8be4df3e3c745f8b14117118ab6cdf4'\n",
    "    }\n",
    ")"
   ]
  },
  {
   "cell_type": "code",
   "execution_count": 181,
   "metadata": {},
   "outputs": [
    {
     "data": {
      "text/plain": [
       "{'features': [{'geometry': {'coordinates': [[10.0064358205, 53.5531997932],\n",
       "     [10.0028838204, 53.5560326932],\n",
       "     [9.9950354573, 53.5585083528],\n",
       "     [9.9885215202, 53.5615458931],\n",
       "     [9.9835648006, 53.5639118882],\n",
       "     [9.96779892, 53.563830093],\n",
       "     [9.9487330249, 53.5619103896],\n",
       "     [9.9416578052, 53.5642537757],\n",
       "     [9.9375445442, 53.5662676646],\n",
       "     [9.9342073196, 53.5688839929],\n",
       "     [9.9185498191, 53.5896461927],\n",
       "     [9.9073847189, 53.5956756926],\n",
       "     [9.9013495939, 53.5986505901],\n",
       "     [9.8933930187, 53.6026864925],\n",
       "     [9.8679643183, 53.6157075924],\n",
       "     [9.8391023178, 53.6304089922],\n",
       "     [9.8138832174, 53.644350492],\n",
       "     [9.7973425171, 53.6552587919],\n",
       "     [9.7602002164, 53.6752948917],\n",
       "     [9.7152910157, 53.6970014914],\n",
       "     [9.6592630143, 53.7542255909],\n",
       "     [9.6451670146, 53.8045036611],\n",
       "     [9.6460951829, 53.8203372828],\n",
       "     [9.6807427131, 53.8525614907],\n",
       "     [9.7479260125, 53.9320957907],\n",
       "     [9.775189985, 53.9641009584],\n",
       "     [9.824394094, 53.9903856442],\n",
       "     [9.9773955125, 54.0715024912],\n",
       "     [9.9800946933, 54.076230186],\n",
       "     [9.9812536124, 54.0787129912],\n",
       "     [9.9815790124, 54.0800424912],\n",
       "     [9.9849613123, 54.0909389912],\n",
       "     [9.9872157505, 54.0973728512],\n",
       "     [9.8517967099, 54.1672355903],\n",
       "     [9.7923752081, 54.2503376898],\n",
       "     [9.7184194069, 54.2839480893],\n",
       "     [9.6799474697, 54.2971868663],\n",
       "     [9.6799595923, 54.2971884535],\n",
       "     [9.6707880061, 54.302404789],\n",
       "     [9.590724604, 54.3924229883],\n",
       "     [9.5378988019, 54.4995834877],\n",
       "     [9.4051233997, 54.5589412868],\n",
       "     [9.3977900996, 54.5628108867],\n",
       "     [9.374180032, 54.6278606189],\n",
       "     [9.4032958354, 54.6900953801],\n",
       "     [9.3892389951, 54.7522402584],\n",
       "     [9.3891149402, 54.752270795],\n",
       "     [9.3589629048, 54.8235559066],\n",
       "     [9.2573589046, 54.9340324066],\n",
       "     [9.2581460046, 54.9361255065],\n",
       "     [9.3328242045, 55.0696351064],\n",
       "     [9.3050712043, 55.2484465063],\n",
       "     [9.2698096042, 55.3886991061],\n",
       "     [9.2864145042, 55.4279941061],\n",
       "     [9.3038636041, 55.480204406],\n",
       "     [9.3661043041, 55.502354806],\n",
       "     [9.4814404042, 55.490554206],\n",
       "     [9.5380332042, 55.5278231059],\n",
       "     [9.6157531042, 55.5449484059],\n",
       "     [9.6436370042, 55.5481202058],\n",
       "     [9.7085910042, 55.5361513058],\n",
       "     [9.7038425042, 55.5064441059],\n",
       "     [9.7344457042, 55.5016258059],\n",
       "     [9.8109276043, 55.4758523058],\n",
       "     [9.8707420043, 55.4601408058],\n",
       "     [9.9300034044, 55.4286740058],\n",
       "     [9.9747029044, 55.3959843059],\n",
       "     [10.0521910044, 55.3830447058],\n",
       "     [10.1058038045, 55.3732621058],\n",
       "     [10.1414635045, 55.3660288058],\n",
       "     [10.1828194045, 55.3495891058],\n",
       "     [10.2182764045, 55.3450247058],\n",
       "     [10.2718768045, 55.3619463058],\n",
       "     [10.3861556045, 55.4017528057],\n",
       "     [10.5866724046, 55.3617364056],\n",
       "     [10.6741556046, 55.3532563056],\n",
       "     [10.8031017047, 55.3140171056],\n",
       "     [10.8497805047, 55.2993940056],\n",
       "     [11.0211636047, 55.3519120055],\n",
       "     [11.1347227047, 55.3571552054],\n",
       "     [11.2306831047, 55.3642698053],\n",
       "     [11.3485562046, 55.4075014053],\n",
       "     [11.5692580046, 55.4190441051],\n",
       "     [11.6792580046, 55.4438771051],\n",
       "     [11.7860945046, 55.438070305],\n",
       "     [11.7918241046, 55.438312605],\n",
       "     [11.9067532374, 55.4531164835],\n",
       "     [12.1483663046, 55.4815480048],\n",
       "     [12.1726037046, 55.4995703048],\n",
       "     [12.3375260044, 55.6361320046],\n",
       "     [12.5068477044, 55.6567329045],\n",
       "     [12.5161764044, 55.6527996045],\n",
       "     [12.5267123044, 55.6515213045],\n",
       "     [12.5376084044, 55.6548839044],\n",
       "     [12.537929671, 55.6547465519],\n",
       "     [12.5595897044, 55.6650983044],\n",
       "     [12.5653736043, 55.6724527044]],\n",
       "    'type': 'LineString'},\n",
       "   'properties': {'beeline': False,\n",
       "    'lines': [],\n",
       "    'node_from': {'edge_fraction': 0.0,\n",
       "     'external_id': '6dada5e2-aca7-4727-a8d1-dc22dd507adc',\n",
       "     'id': '0x7f0a03483800',\n",
       "     'is_via': True,\n",
       "     'via_index': 0},\n",
       "    'node_to': {'edge_fraction': 1.0,\n",
       "     'external_id': 'e2e045f6-77ea-4be9-90a4-1d5b56d1d2d3',\n",
       "     'id': '0x7f09fffc6270',\n",
       "     'is_via': True,\n",
       "     'via_index': 1},\n",
       "    'station_from': {'id': '8001071',\n",
       "     'ident_source': 'sbb',\n",
       "     'latitude': 53.5531997932,\n",
       "     'longitude': 10.0064358205,\n",
       "     'name': 'Hamburg Hbf',\n",
       "     'platform': ''},\n",
       "    'station_to': {'id': '8600626',\n",
       "     'ident_source': 'sbb',\n",
       "     'latitude': 55.6724527044,\n",
       "     'longitude': 12.5653736043,\n",
       "     'name': 'Kobenhavn H',\n",
       "     'platform': ''}},\n",
       "   'type': 'Feature'}],\n",
       " 'properties': {'lines': [], 'network': 'trafper30_qfanas', 'skippedVias': []},\n",
       " 'type': 'FeatureCollection'}"
      ]
     },
     "execution_count": 181,
     "metadata": {},
     "output_type": "execute_result"
    }
   ],
   "source": [
    "r.json()"
   ]
  },
  {
   "cell_type": "markdown",
   "metadata": {},
   "source": [
    "# Footprint of bus travel\n",
    "- What bus models do bus providers use?\n",
    "  - What are the technical details of the bus models?\n",
    "- How full are the buses?\n",
    "- What routes do they take?\n",
    "  - Or at least how long are the road connections between the locations?"
   ]
  },
  {
   "cell_type": "markdown",
   "metadata": {},
   "source": [
    "# Footprint of air travel\n",
    "- Which model? ✅\n",
    "  - Where to query technical information on airplane models?\n",
    "- How much is the footprint affected by weather? 🚧\n",
    "  - To be determined\n",
    "- What routes?\n",
    "  - See if this is captured in the historical data\n",
    "- How full are the planes? \n",
    "  - See if this is captured in the historical data"
   ]
  },
  {
   "cell_type": "markdown",
   "metadata": {},
   "source": [
    "## The Flight Radar 24 API - wooooah"
   ]
  },
  {
   "cell_type": "markdown",
   "metadata": {},
   "source": [
    "### Playing around with airport details"
   ]
  },
  {
   "cell_type": "code",
   "execution_count": 3,
   "metadata": {},
   "outputs": [],
   "source": [
    "from FlightRadar24 import FlightRadar24API\n",
    "from datetime import datetime\n",
    "fr_api = FlightRadar24API()"
   ]
  },
  {
   "cell_type": "code",
   "execution_count": 12,
   "metadata": {},
   "outputs": [],
   "source": [
    "airports = fr_api.get_airports()"
   ]
  },
  {
   "cell_type": "code",
   "execution_count": 33,
   "metadata": {},
   "outputs": [
    {
     "data": {
      "text/plain": [
       "[<(LOWW) Vienna International Airport - Altitude: 600 - Latitude: 48.110271 - Longitude: 16.569719>]"
      ]
     },
     "execution_count": 33,
     "metadata": {},
     "output_type": "execute_result"
    }
   ],
   "source": [
    "# Vienna International Airport\n",
    "VIE = [airport for airport in airports if airport.__getattribute__(\"iata\") == 'VIE']\n",
    "VIE"
   ]
  },
  {
   "cell_type": "code",
   "execution_count": 39,
   "metadata": {},
   "outputs": [
    {
     "data": {
      "text/plain": [
       "dict_keys(['details', 'flightdiary', 'schedule', 'weather', 'aircraftCount', 'runways'])"
      ]
     },
     "execution_count": 39,
     "metadata": {},
     "output_type": "execute_result"
    }
   ],
   "source": [
    "fr_api.get_airport_details(\"vie\")[\"airport\"][\"pluginData\"].keys()"
   ]
  },
  {
   "cell_type": "code",
   "execution_count": 41,
   "metadata": {},
   "outputs": [
    {
     "data": {
      "text/plain": [
       "dict_keys(['name', 'code', 'delayIndex', 'stats', 'position', 'timezone', 'url', 'airportImages', 'visible'])"
      ]
     },
     "execution_count": 41,
     "metadata": {},
     "output_type": "execute_result"
    }
   ],
   "source": [
    "fr_api.get_airport_details(\"vie\")[\"airport\"][\"pluginData\"][\"details\"].keys()"
   ]
  },
  {
   "cell_type": "code",
   "execution_count": 59,
   "metadata": {},
   "outputs": [
    {
     "data": {
      "text/plain": [
       "dict_keys(['identification', 'status', 'aircraft', 'owner', 'airline', 'airport', 'time'])"
      ]
     },
     "execution_count": 59,
     "metadata": {},
     "output_type": "execute_result"
    }
   ],
   "source": [
    "fr_api.get_airport_details(\"vie\")[\"airport\"][\"pluginData\"][\"schedule\"][\"arrivals\"][\"data\"][0][\"flight\"].keys()"
   ]
  },
  {
   "cell_type": "markdown",
   "metadata": {},
   "source": [
    "### Query flights - WIP\n",
    "- Step 1: Given some details of the flight, we want to be able to get the ID\n",
    "  - We can get the ID, but this is not a Flight object, only a string - and not sufficient to get what we want??\n",
    "\\n\n",
    "- We could also try to query from the airport information ..."
   ]
  },
  {
   "cell_type": "code",
   "execution_count": 81,
   "metadata": {},
   "outputs": [],
   "source": [
    "example_flight = fr_api.search(\n",
    "    \"HLR555\"\n",
    ")\n",
    "example_flight"
   ]
  },
  {
   "cell_type": "code",
   "execution_count": 69,
   "metadata": {},
   "outputs": [],
   "source": [
    "identification = example_flight[\"live\"][0][\"id\"]"
   ]
  },
  {
   "cell_type": "markdown",
   "metadata": {},
   "source": [
    "### Get flight details from arrivals\n",
    "- potentially not the best way to get historical data, because I think this looks at realtime data\n",
    "- -> also there seems to be a way to get historical data (get_history_data), to be explored 🧐"
   ]
  },
  {
   "cell_type": "code",
   "execution_count": 160,
   "metadata": {},
   "outputs": [],
   "source": [
    "\n",
    "def get_flight_info(\n",
    "    arrival_airport: str, # IATA code, e.g. VIE for Vienna or LHR for London Heathrow\n",
    "    callsign: str,\n",
    "):\n",
    "    arrival_data = fr_api.get_airport_details(arrival_airport)[\"airport\"][\"pluginData\"][\"schedule\"][\"arrivals\"][\"data\"]\n",
    "    flights = [flight for flight in arrival_data if flight[\"flight\"][\"identification\"][\"callsign\"] == callsign]\n",
    "\n",
    "    if len(flights) == 0:\n",
    "        return None\n",
    "    elif len(flights) > 1:\n",
    "        raise ValueError(\"Multiple flights found\")\n",
    "    \n",
    "    return flights[0]"
   ]
  },
  {
   "cell_type": "code",
   "execution_count": 118,
   "metadata": {},
   "outputs": [],
   "source": [
    "arrival_data = fr_api.get_airport_details(\"vie\")[\"airport\"][\"pluginData\"][\"schedule\"][\"arrivals\"][\"data\"]"
   ]
  },
  {
   "cell_type": "code",
   "execution_count": 139,
   "metadata": {},
   "outputs": [],
   "source": [
    "flight = get_flight_info(\"vie\", \"RYR6QV\")\n",
    "flight"
   ]
  },
  {
   "cell_type": "markdown",
   "metadata": {},
   "source": [
    "We can obtain some interesting information from this flight:\n",
    "- Estimated and later real duration\n",
    "- Operator (could give us an indication of typical loads)\n",
    "- Aircraft details\n",
    "\n",
    "What I haven't figured out yet\n",
    "- How full the airplane is, not sure if FlightRadar even has this information\n",
    "- How long the trip is/was. We would just do distance between airports as an approximation (we can query this information from the API but the actual travelled distance could be useful and I think that flightradar tracks this 🧐)"
   ]
  },
  {
   "cell_type": "code",
   "execution_count": 154,
   "metadata": {},
   "outputs": [
    {
     "data": {
      "text/plain": [
       "{'id': None,\n",
       " 'row': 5479612370,\n",
       " 'number': {'default': 'FR9888', 'alternative': 'LW9888'},\n",
       " 'callsign': 'RYR6QV',\n",
       " 'codeshare': None}"
      ]
     },
     "execution_count": 154,
     "metadata": {},
     "output_type": "execute_result"
    }
   ],
   "source": [
    "flight['flight']['identification']"
   ]
  },
  {
   "cell_type": "code",
   "execution_count": 155,
   "metadata": {},
   "outputs": [
    {
     "data": {
      "text/plain": [
       "{'model': {'code': 'A320', 'text': 'Airbus A320-214'},\n",
       " 'registration': '9H-LOQ',\n",
       " 'country': {'id': 136, 'name': 'Malta', 'alpha2': 'MT', 'alpha3': 'MLT'},\n",
       " 'hex': '4D22C8',\n",
       " 'restricted': False,\n",
       " 'serialNo': None,\n",
       " 'age': {'availability': True},\n",
       " 'availability': {'serialNo': True, 'age': True}}"
      ]
     },
     "execution_count": 155,
     "metadata": {},
     "output_type": "execute_result"
    }
   ],
   "source": [
    "flight['flight']['aircraft']"
   ]
  },
  {
   "cell_type": "code",
   "execution_count": 156,
   "metadata": {},
   "outputs": [
    {
     "data": {
      "text/plain": [
       "{'scheduled': {'departure': 1710083100, 'arrival': 1710089400},\n",
       " 'real': {'departure': None, 'arrival': None},\n",
       " 'estimated': {'departure': 1710083700, 'arrival': None},\n",
       " 'other': {'eta': None, 'duration': None}}"
      ]
     },
     "execution_count": 156,
     "metadata": {},
     "output_type": "execute_result"
    }
   ],
   "source": [
    "flight['flight']['time']"
   ]
  },
  {
   "cell_type": "code",
   "execution_count": 159,
   "metadata": {},
   "outputs": [
    {
     "data": {
      "text/plain": [
       "{'live': False,\n",
       " 'text': 'Scheduled',\n",
       " 'icon': None,\n",
       " 'estimated': None,\n",
       " 'ambiguous': False,\n",
       " 'generic': {'status': {'text': 'scheduled',\n",
       "   'type': 'arrival',\n",
       "   'color': 'gray',\n",
       "   'diverted': None},\n",
       "  'eventTime': {'utc': None, 'local': None}}}"
      ]
     },
     "execution_count": 159,
     "metadata": {},
     "output_type": "execute_result"
    }
   ],
   "source": []
  }
 ],
 "metadata": {
  "kernelspec": {
   "display_name": ".venv",
   "language": "python",
   "name": "python3"
  },
  "language_info": {
   "codemirror_mode": {
    "name": "ipython",
    "version": 3
   },
   "file_extension": ".py",
   "mimetype": "text/x-python",
   "name": "python",
   "nbconvert_exporter": "python",
   "pygments_lexer": "ipython3",
   "version": "3.10.13"
  },
  "orig_nbformat": 4
 },
 "nbformat": 4,
 "nbformat_minor": 2
}
